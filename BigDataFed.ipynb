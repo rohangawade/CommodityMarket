{
 "cells": [
  {
   "cell_type": "code",
   "execution_count": 4,
   "metadata": {
    "collapsed": false
   },
   "outputs": [],
   "source": [
    "from urllib.request import Request, urlopen\n",
    "from bs4 import BeautifulSoup\n",
    "import csv"
   ]
  },
  {
   "cell_type": "code",
   "execution_count": 5,
   "metadata": {
    "collapsed": true
   },
   "outputs": [],
   "source": [
    "def getRecords(webpages):\n",
    "#     print(webpages)\n",
    "    soup = BeautifulSoup(webpages,\"lxml\")\n",
    "    table = soup.find(lambda tag: tag.name=='table' and tag.has_key('id') and tag['id']==\"curr_table\") \n",
    "    \n",
    "    records = []\n",
    "    recrows =[]\n",
    "    count = 0\n",
    "    headers = [header.text for header in table.find_all('th')]\n",
    "    records.append(headers)\n",
    "\n",
    "    for tr in table.find_all('tr')[2:]:\n",
    "        recrows =[]\n",
    "        tds = tr.find_all('td')\n",
    "        for elem in tds:\n",
    "            el = elem.text.encode('utf-8')\n",
    "            el = el.decode('utf-8')\n",
    "            recrows.append(el)\n",
    "        records.append(recrows)\n",
    "    return records"
   ]
  },
  {
   "cell_type": "code",
   "execution_count": 6,
   "metadata": {
    "collapsed": false,
    "scrolled": true
   },
   "outputs": [
    {
     "name": "stderr",
     "output_type": "stream",
     "text": [
      "C:\\Users\\rohan\\Anaconda3\\lib\\site-packages\\bs4\\element.py:1563: UserWarning: has_key is deprecated. Use has_attr(\"id\") instead.\n",
      "  key))\n"
     ]
    }
   ],
   "source": [
    "listlinks = ['https://www.investing.com/commodities/gold-historical-data','https://www.investing.com/commodities/silver-historical-data']\n",
    "for link in listlinks:\n",
    "    \n",
    "    req = Request(link, headers={'User-Agent': 'Mozilla/5.0'})\n",
    "    webpage = urlopen(req).read()\n",
    "    recs = getRecords(webpage)\n",
    "    commodity = link.rsplit('/', 1)[1]\n",
    "    commodity =commodity.rsplit('-',1)[0]\n",
    "    commodity =commodity.rsplit('-',1)[0]\n",
    "    commodityfile = commodity+'.csv'\n",
    "    with open(commodityfile, 'w', newline='') as f:\n",
    "        writer = csv.writer(f)\n",
    "        writer.writerows(recs)"
   ]
  }
 ],
 "metadata": {
  "anaconda-cloud": {},
  "kernelspec": {
   "display_name": "Python [default]",
   "language": "python",
   "name": "python3"
  },
  "language_info": {
   "codemirror_mode": {
    "name": "ipython",
    "version": 3
   },
   "file_extension": ".py",
   "mimetype": "text/x-python",
   "name": "python",
   "nbconvert_exporter": "python",
   "pygments_lexer": "ipython3",
   "version": "3.5.2"
  }
 },
 "nbformat": 4,
 "nbformat_minor": 2
}
