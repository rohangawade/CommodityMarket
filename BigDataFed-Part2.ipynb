{
 "cells": [
  {
   "cell_type": "code",
   "execution_count": 46,
   "metadata": {
    "collapsed": true
   },
   "outputs": [],
   "source": [
    "import pandas as pd\n",
    "from datetime import datetime"
   ]
  },
  {
   "cell_type": "code",
   "execution_count": 92,
   "metadata": {
    "collapsed": false
   },
   "outputs": [
    {
     "name": "stdout",
     "output_type": "stream",
     "text": [
      "Enter start date (YYYY-MM-DD)2017-08-24\n",
      "enter end date (YYYY-MM-DD)2017-08-20\n"
     ]
    }
   ],
   "source": [
    "start = input('Enter start date (YYYY-MM-DD)')\n",
    "end = input('enter end date (YYYY-MM-DD)')"
   ]
  },
  {
   "cell_type": "code",
   "execution_count": 129,
   "metadata": {
    "collapsed": false
   },
   "outputs": [
    {
     "name": "stdout",
     "output_type": "stream",
     "text": [
      "Enter the commodity :\tsilver\n"
     ]
    }
   ],
   "source": [
    "commodity = input('Enter the commodity :\\t')"
   ]
  },
  {
   "cell_type": "code",
   "execution_count": 135,
   "metadata": {
    "collapsed": true
   },
   "outputs": [],
   "source": [
    "def getCommodityPrice(startdate,enddate,commodity):\n",
    "    commodityfile = commodity+'.csv'\n",
    "    df = pd.read_csv(commodityfile)\n",
    "    df['Date']= pd.to_datetime(df['Date'])\n",
    "    df.head()\n",
    "    startdate = datetime.strptime(startdate,'%Y-%m-%d')\n",
    "    enddate = datetime.strptime(end,'%Y-%m-%d')\n",
    "    mask = (df['Date'] <= startdate) & (df['Date'] > enddate)\n",
    "    dfreq = (df.loc[mask])\n",
    "    dfreq['Price']= dfreq.Price.astype(str).str.replace(',','')\n",
    "    dfreq['Price'] = dfreq.Price.astype(float)\n",
    "#     print(dfreq['Price'])\n",
    "    ret_data = commodity +\" \"+str(dfreq['Price'].values.mean())+\" \"+str(dfreq['Price'].values.var())\n",
    "    return ret_data\n",
    "    "
   ]
  },
  {
   "cell_type": "code",
   "execution_count": 136,
   "metadata": {
    "collapsed": false
   },
   "outputs": [
    {
     "name": "stdout",
     "output_type": "stream",
     "text": [
      "silver 17.0015 0.00100625\n"
     ]
    },
    {
     "name": "stderr",
     "output_type": "stream",
     "text": [
      "C:\\Users\\rohan\\Anaconda3\\lib\\site-packages\\ipykernel\\__main__.py:10: SettingWithCopyWarning: \n",
      "A value is trying to be set on a copy of a slice from a DataFrame.\n",
      "Try using .loc[row_indexer,col_indexer] = value instead\n",
      "\n",
      "See the caveats in the documentation: http://pandas.pydata.org/pandas-docs/stable/indexing.html#indexing-view-versus-copy\n",
      "C:\\Users\\rohan\\Anaconda3\\lib\\site-packages\\ipykernel\\__main__.py:11: SettingWithCopyWarning: \n",
      "A value is trying to be set on a copy of a slice from a DataFrame.\n",
      "Try using .loc[row_indexer,col_indexer] = value instead\n",
      "\n",
      "See the caveats in the documentation: http://pandas.pydata.org/pandas-docs/stable/indexing.html#indexing-view-versus-copy\n"
     ]
    }
   ],
   "source": [
    "data = getCommodityPrice(start,end,commodity)\n",
    "print(data)"
   ]
  }
 ],
 "metadata": {
  "anaconda-cloud": {},
  "kernelspec": {
   "display_name": "Python [default]",
   "language": "python",
   "name": "python3"
  },
  "language_info": {
   "codemirror_mode": {
    "name": "ipython",
    "version": 3
   },
   "file_extension": ".py",
   "mimetype": "text/x-python",
   "name": "python",
   "nbconvert_exporter": "python",
   "pygments_lexer": "ipython3",
   "version": "3.5.2"
  }
 },
 "nbformat": 4,
 "nbformat_minor": 1
}
