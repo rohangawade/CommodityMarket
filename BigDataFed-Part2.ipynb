{
 "cells": [
  {
   "cell_type": "code",
   "execution_count": 46,
   "metadata": {
    "collapsed": true
   },
   "outputs": [],
   "source": [
    "import pandas as pd\n",
    "from datetime import datetime"
   ]
  },
  {
   "cell_type": "code",
   "execution_count": 127,
   "metadata": {
    "collapsed": false
   },
   "outputs": [],
   "source": [
    "def getCommodityPrice(startdate,enddate,commodity):\n",
    "    commodityfile = commodity+'.csv'\n",
    "    df = pd.read_csv(commodityfile)\n",
    "    df['Date']= pd.to_datetime(df['Date'])\n",
    "    df.head()\n",
    "    startdate = datetime.strptime(startdate,'%Y-%m-%d')\n",
    "    enddate = datetime.strptime(end,'%Y-%m-%d')\n",
    "    print(start)\n",
    "    print(end)\n",
    "    mask = (df['Date'] <= startdate) & (df['Date'] > enddate)\n",
    "    dfreq = (df.loc[mask])\n",
    "    dfreq['Price']= dfreq.Price.astype(str).str.replace(',','')\n",
    "    dfreq['Price'] = dfreq.Price.astype(float)\n",
    "    print(dfreq['Price'])\n",
    "    ret_data = commodity +\" \"+str(dfreq['Price'].values.mean())+\" \"+str(dfreq['Price'].values.var())\n",
    "    return ret_data\n",
    "    "
   ]
  },
  {
   "cell_type": "code",
   "execution_count": 92,
   "metadata": {
    "collapsed": false
   },
   "outputs": [
    {
     "name": "stdout",
     "output_type": "stream",
     "text": [
      "Enter start date (YYYY-MM-DD)2017-08-24\n",
      "enter end date (YYYY-MM-DD)2017-08-20\n"
     ]
    }
   ],
   "source": [
    "start = input('Enter start date (YYYY-MM-DD)')\n",
    "end = input('enter end date (YYYY-MM-DD)')"
   ]
  },
  {
   "cell_type": "code",
   "execution_count": 129,
   "metadata": {
    "collapsed": false
   },
   "outputs": [
    {
     "name": "stdout",
     "output_type": "stream",
     "text": [
      "Enter the commodity :\tsilver\n"
     ]
    }
   ],
   "source": [
    "commodity = input('Enter the commodity :\\t')"
   ]
  },
  {
   "cell_type": "code",
   "execution_count": 130,
   "metadata": {
    "collapsed": false
   },
   "outputs": [
    {
     "name": "stdout",
     "output_type": "stream",
     "text": [
      "2017-08-24\n",
      "2017-08-20\n",
      "0    16.940\n",
      "1    17.046\n",
      "2    16.982\n",
      "3    17.015\n",
      "Name: Price, dtype: float64\n",
      "silver 16.99575 0.0015481875\n"
     ]
    },
    {
     "name": "stderr",
     "output_type": "stream",
     "text": [
      "C:\\Users\\rohan\\Anaconda3\\lib\\site-packages\\ipykernel\\__main__.py:12: SettingWithCopyWarning: \n",
      "A value is trying to be set on a copy of a slice from a DataFrame.\n",
      "Try using .loc[row_indexer,col_indexer] = value instead\n",
      "\n",
      "See the caveats in the documentation: http://pandas.pydata.org/pandas-docs/stable/indexing.html#indexing-view-versus-copy\n",
      "C:\\Users\\rohan\\Anaconda3\\lib\\site-packages\\ipykernel\\__main__.py:13: SettingWithCopyWarning: \n",
      "A value is trying to be set on a copy of a slice from a DataFrame.\n",
      "Try using .loc[row_indexer,col_indexer] = value instead\n",
      "\n",
      "See the caveats in the documentation: http://pandas.pydata.org/pandas-docs/stable/indexing.html#indexing-view-versus-copy\n"
     ]
    }
   ],
   "source": [
    "data = getCommodityPrice(start,end,commodity)\n",
    "# data = pd.to_numeric(data)\n",
    "print(data)\n",
    "# print(data)"
   ]
  }
 ],
 "metadata": {
  "anaconda-cloud": {},
  "kernelspec": {
   "display_name": "Python [default]",
   "language": "python",
   "name": "python3"
  },
  "language_info": {
   "codemirror_mode": {
    "name": "ipython",
    "version": 3
   },
   "file_extension": ".py",
   "mimetype": "text/x-python",
   "name": "python",
   "nbconvert_exporter": "python",
   "pygments_lexer": "ipython3",
   "version": "3.5.2"
  }
 },
 "nbformat": 4,
 "nbformat_minor": 1
}
